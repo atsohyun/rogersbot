{
 "cells": [
  {
   "cell_type": "markdown",
   "metadata": {},
   "source": [
    "###  Simple IR-based Chatbot"
   ]
  },
  {
   "cell_type": "code",
   "execution_count": 1,
   "metadata": {},
   "outputs": [],
   "source": [
    "# April 2019\n",
    "# Source: https://medium.com/analytics-vidhya/building-a-simple-chatbot-in-python-using-nltk-7c8c8215ac6e"
   ]
  },
  {
   "cell_type": "code",
   "execution_count": 2,
   "metadata": {},
   "outputs": [],
   "source": [
    "#-*- coding: utf-8 -*-"
   ]
  },
  {
   "cell_type": "code",
   "execution_count": 3,
   "metadata": {},
   "outputs": [
    {
     "data": {
      "application/javascript": [
       "IPython.notebook.set_autosave_interval(300000)"
      ]
     },
     "metadata": {},
     "output_type": "display_data"
    },
    {
     "name": "stdout",
     "output_type": "stream",
     "text": [
      "Autosaving every 300 seconds\n"
     ]
    }
   ],
   "source": [
    "%autosave 300"
   ]
  },
  {
   "cell_type": "code",
   "execution_count": 4,
   "metadata": {},
   "outputs": [
    {
     "name": "stdout",
     "output_type": "stream",
     "text": [
      "The nltk version is 3.4.\n"
     ]
    }
   ],
   "source": [
    "import nltk\n",
    "import numpy as np\n",
    "import random\n",
    "import string # to process standard python strings\n",
    "import re\n",
    "print('The nltk version is {}.'.format(nltk.__version__))"
   ]
  },
  {
   "cell_type": "code",
   "execution_count": 5,
   "metadata": {},
   "outputs": [
    {
     "name": "stderr",
     "output_type": "stream",
     "text": [
      "[nltk_data] Downloading package punkt to /Users/sohyun/nltk_data...\n",
      "[nltk_data]   Package punkt is already up-to-date!\n",
      "[nltk_data] Downloading package wordnet to /Users/sohyun/nltk_data...\n",
      "[nltk_data]   Package wordnet is already up-to-date!\n"
     ]
    },
    {
     "data": {
      "text/plain": [
       "True"
      ]
     },
     "execution_count": 5,
     "metadata": {},
     "output_type": "execute_result"
    }
   ],
   "source": [
    "nltk.download('punkt') # first-time use only\n",
    "nltk.download('wordnet') # first-time use only"
   ]
  },
  {
   "cell_type": "markdown",
   "metadata": {},
   "source": [
    "### Sample Therapist Responses "
   ]
  },
  {
   "cell_type": "markdown",
   "metadata": {},
   "source": [
    "Therapist responses are roughly gathered from Carl Rogers' transcript collection."
   ]
  },
  {
   "cell_type": "code",
   "execution_count": 6,
   "metadata": {},
   "outputs": [],
   "source": [
    "f=open('data/rogers-target.txt','r',errors = 'ignore')\n",
    "raw=f.readlines()"
   ]
  },
  {
   "cell_type": "code",
   "execution_count": 7,
   "metadata": {},
   "outputs": [
    {
     "data": {
      "text/plain": [
       "' And I get several feelings there. One is that you‚Äôre a little fearful that I will think, ‚ÄúOh, that‚Äôs not an important problem.‚Äù And another one is that, uh, uhm, you have a very definite goal for yourself and sometimes you achieve it and feel good, but then it cycles that‚Äôs very discouraging. And I was interested that when you reach as much weight as you have now, it‚Äôs not just a feeling of, of, uh, dissatisfaction, uh, you use a stronger word than that, uh, despair. Did you use despair?\\n'"
      ]
     },
     "execution_count": 7,
     "metadata": {},
     "output_type": "execute_result"
    }
   ],
   "source": [
    "raw[0] # contains weird characters due to encoding problems "
   ]
  },
  {
   "cell_type": "code",
   "execution_count": 8,
   "metadata": {},
   "outputs": [],
   "source": [
    "# due to rough preprocessing and encoding problems,\n",
    "# do some decluttering  \n",
    "data=[]\n",
    "for r in raw:\n",
    "    r=r.replace(\"‚Äô\", \"'\")\n",
    "    r=r.replace(\"‚Äú\", '\"')\n",
    "    r=r.replace(\"‚Äù\", \"\")\n",
    "    r=r.replace(\"‚Ä¶\", \"\")\n",
    "    r=r.replace('\"', \"\")\n",
    "    r=r.replace(\"  \", \" \")\n",
    "    r=r.replace(\"\\n\", \"\")\n",
    "    r=r.replace(\"\\x1e\", \"\")\n",
    "    if r.startswith(\" \"):\n",
    "        r=r.replace(\" \", \"\", 1)\n",
    "    elif r.startswith(\"  \"):\n",
    "        r=r.replace(\"  \", \"\", 1)\n",
    "    elif r.startswith(\"   \"):\n",
    "        r=r.replace(\"   \", \"\", 1)\n",
    "    elif r.startswith(\"    \"):\n",
    "        r=r.replace(\"    \", \"\", 1)\n",
    "    data.append(r)"
   ]
  },
  {
   "cell_type": "code",
   "execution_count": 9,
   "metadata": {},
   "outputs": [
    {
     "data": {
      "text/plain": [
       "8509"
      ]
     },
     "execution_count": 9,
     "metadata": {},
     "output_type": "execute_result"
    }
   ],
   "source": [
    "len(data)"
   ]
  },
  {
   "cell_type": "code",
   "execution_count": 10,
   "metadata": {},
   "outputs": [],
   "source": [
    "sent_tokens=[]\n",
    "for d in data:\n",
    "    temp=nltk.sent_tokenize(d)\n",
    "    for t in temp:\n",
    "        if t.startswith(\" \"):\n",
    "            t=t.replace(\" \", \"\", 1)\n",
    "        elif t.startswith(\"  \"):\n",
    "            t=t.replace(\"  \", \"\", 1)\n",
    "        elif t.startswith(\"   \"):\n",
    "            t=t.replace(\"   \", \"\", 1)\n",
    "        elif t.startswith(\"    \"):\n",
    "            t=t.replace(\"    \", \"\", 1)\n",
    "        sent_tokens.append(t) # converts to list of sentences \n",
    "        \n",
    "sent_tokens=[s for s in sent_tokens if not s.startswith(\".\")]"
   ]
  },
  {
   "cell_type": "code",
   "execution_count": 11,
   "metadata": {},
   "outputs": [
    {
     "data": {
      "text/plain": [
       "['And I get several feelings there.',\n",
       " \"One is that you're a little fearful that I will think, Oh, that's not an important problem.\",\n",
       " \"And another one is that, uh, uhm, you have a very definite goal for yourself and sometimes you achieve it and feel good, but then it cycles that's very discouraging.\",\n",
       " \"And I was interested that when you reach as much weight as you have now, it's not just a feeling of, of, uh, dissatisfaction, uh, you use a stronger word than that, uh, despair.\",\n",
       " 'Did you use despair?']"
      ]
     },
     "execution_count": 11,
     "metadata": {},
     "output_type": "execute_result"
    }
   ],
   "source": [
    "sent_tokens[:5]"
   ]
  },
  {
   "cell_type": "code",
   "execution_count": 12,
   "metadata": {},
   "outputs": [],
   "source": [
    "word_tokens=[]\n",
    "for d in data:\n",
    "    temp=nltk.word_tokenize(d)\n",
    "    for t in temp:\n",
    "        word_tokens.append(t) # converts to list of words"
   ]
  },
  {
   "cell_type": "code",
   "execution_count": 13,
   "metadata": {},
   "outputs": [
    {
     "data": {
      "text/plain": [
       "['And', 'I', 'get', 'several', 'feelings', 'there', '.', 'One', 'is', 'that']"
      ]
     },
     "execution_count": 13,
     "metadata": {},
     "output_type": "execute_result"
    }
   ],
   "source": [
    "word_tokens[:10]"
   ]
  },
  {
   "cell_type": "code",
   "execution_count": 14,
   "metadata": {},
   "outputs": [
    {
     "data": {
      "text/plain": [
       "'Umm-hmm.'"
      ]
     },
     "execution_count": 14,
     "metadata": {},
     "output_type": "execute_result"
    }
   ],
   "source": [
    "from collections import Counter\n",
    "count=Counter(sent_tokens)\n",
    "count.most_common(20)\n",
    "random.choice(count.most_common(20))[0] # randomly generate most common therapist response "
   ]
  },
  {
   "cell_type": "code",
   "execution_count": 15,
   "metadata": {},
   "outputs": [],
   "source": [
    "lemmer = nltk.stem.WordNetLemmatizer()\n",
    "#WordNet is a semantically-oriented dictionary of English included in NLTK.\n",
    "def LemTokens(tokens):\n",
    "    # given a list of tokens, lemmatize each token\n",
    "    return [lemmer.lemmatize(token) for token in tokens]\n",
    "remove_punct_dict = dict((ord(punct), None) for punct in string.punctuation)\n",
    "def LemNormalize(text):\n",
    "    return LemTokens(nltk.word_tokenize(text.lower().translate(remove_punct_dict)))"
   ]
  },
  {
   "cell_type": "code",
   "execution_count": 16,
   "metadata": {},
   "outputs": [],
   "source": [
    "GREETING_INPUTS = (\"hello\", \"hi\", \"greetings\", \"sup\", \"what's up\",\"hey\",)\n",
    "GREETING_RESPONSES = [\"Hello.\", \"Hi.\", \"*nods*\", \"Hello there.\", \"How are you?\", \"Good to see you today.\"]\n",
    "def greeting(sentence):\n",
    "    for word in sentence.split():\n",
    "        if word.lower() in GREETING_INPUTS:\n",
    "            return random.choice(GREETING_RESPONSES)"
   ]
  },
  {
   "cell_type": "code",
   "execution_count": 17,
   "metadata": {},
   "outputs": [],
   "source": [
    "from sklearn.feature_extraction.text import TfidfVectorizer\n",
    "from sklearn.metrics.pairwise import cosine_similarity"
   ]
  },
  {
   "cell_type": "code",
   "execution_count": 18,
   "metadata": {},
   "outputs": [],
   "source": [
    "stops = nltk.corpus.stopwords.words('english')\n",
    "stops = stops.append('\\\"')\n",
    "def response(user_response):\n",
    "    bot_response=''\n",
    "    sent_tokens.append(user_response)\n",
    "    TfidfVec = TfidfVectorizer(tokenizer=LemNormalize, stop_words=stops)\n",
    "    tfidf = TfidfVec.fit_transform(sent_tokens)\n",
    "    vals = cosine_similarity(tfidf[-1], tfidf)\n",
    "    idx=vals.argsort()[0][-2]\n",
    "    flat = vals.flatten()\n",
    "    flat.sort()\n",
    "    req_tfidf = flat[-2]\n",
    "    if(req_tfidf==0):\n",
    "        bot_response=bot_response+\"My apologies. I didn't quite get that.\"\n",
    "        return bot_response\n",
    "    elif(req_tfidf<0.5):\n",
    "        bot_response=bot_response+random.choice(count.most_common(20))[0]\n",
    "        return bot_response\n",
    "    else:\n",
    "        bot_response=bot_response+sent_tokens[idx]\n",
    "        return bot_response"
   ]
  },
  {
   "cell_type": "markdown",
   "metadata": {},
   "source": [
    "### Chatbot "
   ]
  },
  {
   "cell_type": "markdown",
   "metadata": {},
   "source": [
    "Therapist responses are roughly implemented with 'print.' <br>\n",
    "To allow varied responses, one can implement a therapist response function."
   ]
  },
  {
   "cell_type": "code",
   "execution_count": 19,
   "metadata": {},
   "outputs": [],
   "source": [
    "from time import sleep\n",
    "# loading = 'LOADING...'\n",
    "# for i in range(10):\n",
    "#     print(loading[i], sep=' ', end=' ', flush=True); "
   ]
  },
  {
   "cell_type": "code",
   "execution_count": 21,
   "metadata": {},
   "outputs": [
    {
     "name": "stdout",
     "output_type": "stream",
     "text": [
      "What is your name?  Gloria\n",
      "\n",
      "\n",
      "Rogers: Hi Gloria, I'm Rogers. I'm here to help you write about how you feel. If you're ready, type 'OK' to begin.\n",
      "You: OK\n",
      "\n",
      "\n",
      "Rogers: Now, tell me about anything that caused you a significant emotional upheaval.\n",
      "You: Well, I lied to my daughter, Pam, about the man I am dating and it bothers me so much that I can't focus on anything.\n",
      "\n",
      "\n",
      "Rogers: Is that...? Could you detail the feelings you had, Gloria?\n",
      "You: It's like... I feel suffocated. I am so afraid that Pam will find out one day and will be greatly disappointed at me. I can't bear to be a bad mom for her because she doesn't have a father.\n",
      "\n",
      "\n",
      "Rogers: O.K. Would it be possible that this event has anything to do with your relationships with others, such as family and friends?\n",
      "You: I guess some of it could be her father's fault in that he wasn't a responsible man to raise a family. But I chose him so...\n",
      "\n",
      "\n",
      "Rogers: I see. Hmm. How about this? Think about how this event may relate to your past.\n",
      "You: I don't think I dated the right men. I wonder why. Maybe because of my father. I really wanted to be loved, but he did not love me back in the way I wanted him to.\n",
      "\n",
      "\n",
      "Rogers: Yeah. Then how does this event make you feel who you are now?\n",
      "You: I've become one insecure woman who is afraid of letting her daughter down.\n",
      "\n",
      "\n",
      "Rogers: Hmm? What is your hope for the future?\n",
      "You: I hope Pam will one day understand me, I mean really understand my feelings as a mom and a woman.\n",
      "\n",
      "\n",
      "Rogers: Yeah. Thank you for sharing, Gloria. Please review what you've shared with me today: \n",
      "\n",
      "\n",
      "*******************************************************************************************************************\n",
      "Well, I lied to my daughter, Pam, about the man I am dating and it bothers me so much that I can't focus on anything. It's like... I feel suffocated. I am so afraid that Pam will find out one day and will be greatly disappointed at me. I can't bear to be a bad mom for her because she doesn't have a father. I guess some of it could be her father's fault in that he wasn't a responsible man to raise a family. But I chose him so... I don't think I dated the right men. I wonder why. Maybe because of my father. I really wanted to be loved, but he did not love me back in the way I wanted him to. I've become one insecure woman who is afraid of letting her daughter down. I hope Pam will one day understand me, I mean really understand my feelings as a mom and a woman.\n",
      "*******************************************************************************************************************\n",
      "\n",
      "\n",
      "Rogers: You've made one big step today. If you're done reviewing, please enter 'DONE'.\n",
      "You: DONE\n",
      "\n",
      "\n",
      "Rogers: Alright. Take care, Gloria.\n"
     ]
    }
   ],
   "source": [
    "flag=True\n",
    "username=input(\"What is your name?  \")\n",
    "sleep(1.0)\n",
    "print(\"\\n\")\n",
    "print(\"Rogers: Hi %s, I'm Rogers. I'm here to help you write about how you feel. If you're ready, type 'OK' to begin.\" % (username))\n",
    "user_response0 = input(\"You: \")\n",
    "sleep(0.5)\n",
    "if user_response0.lower()!=\"ok\":\n",
    "    print(\"\\n\")\n",
    "    print(\"Rogers: I guess it wasn't quite the right time. You can come back anytime.\")\n",
    "    flag==False\n",
    "else:\n",
    "    print(\"\\n\")\n",
    "    print(\"Rogers: Now, tell me about anything that caused you a significant emotional upheaval.\")\n",
    "    user_response1 = input(\"You: \")\n",
    "    print(\"\\n\")\n",
    "    print(\"Rogers: \"+response(user_response1)+ \" Could you detail the feelings you had, %s?\" % (username))\n",
    "    user_response2 = input(\"You: \")\n",
    "    sleep(0.5)\n",
    "    print(\"\\n\")\n",
    "    print(\"Rogers: \"+response(user_response2)+ \" Would it be possible that this event has anything to do with your relationships with others, such as family and friends?\")\n",
    "    user_response3 = input(\"You: \")\n",
    "    sleep(0.5)\n",
    "    print(\"\\n\")\n",
    "    print(\"Rogers: \"+response(user_response3)+ \" Hmm. How about this? Think about how this event may relate to your past.\")\n",
    "    user_response4 = input(\"You: \")\n",
    "    sleep(0.5)\n",
    "    print(\"\\n\")\n",
    "    print(\"Rogers: \"+response(user_response4)+ \" Then how does this event make you feel who you are now?\")\n",
    "    user_response5 = input(\"You: \")\n",
    "    sleep(0.5)\n",
    "    print(\"\\n\")\n",
    "    print(\"Rogers: \"+response(user_response5)+ \" What is your hope for the future?\")\n",
    "    user_response6 = input(\"You: \")\n",
    "    sleep(0.5)\n",
    "    print(\"\\n\")\n",
    "    print(\"Rogers: \"+response(user_response6)+ \" Thank you for sharing, %s. Please review what you've shared with me today: \" % (username))\n",
    "    sleep(2.5)\n",
    "    print(\"\\n\")\n",
    "    print(\"*\"*115)\n",
    "    print(user_response1+\" \"+ user_response2+\" \"+ user_response3+\" \"+ user_response4+\" \"+ user_response5+\" \"+ user_response6)\n",
    "    print(\"*\"*115)\n",
    "    print(\"\\n\")\n",
    "    print(\"Rogers: You've made one big step today. If you're done reviewing, please enter 'DONE'.\")\n",
    "    user_response7 = input(\"You: \")\n",
    "    if user_response7.lower()!=\"done\":\n",
    "        sleep(0.5)\n",
    "        print(\"Rogers: I guess something went wrong. You may now exit.\")\n",
    "        flag==False\n",
    "    else:\n",
    "        print(\"\\n\")\n",
    "        sleep(0.5)\n",
    "        print(\"Rogers: Alright. Take care, %s.\" % (username))\n",
    "        flag==False  "
   ]
  }
 ],
 "metadata": {
  "kernelspec": {
   "display_name": "Python 3",
   "language": "python",
   "name": "python3"
  },
  "language_info": {
   "codemirror_mode": {
    "name": "ipython",
    "version": 3
   },
   "file_extension": ".py",
   "mimetype": "text/x-python",
   "name": "python",
   "nbconvert_exporter": "python",
   "pygments_lexer": "ipython3",
   "version": "3.7.3"
  }
 },
 "nbformat": 4,
 "nbformat_minor": 2
}
